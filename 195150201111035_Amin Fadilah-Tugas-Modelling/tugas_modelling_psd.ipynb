{
  "nbformat": 4,
  "nbformat_minor": 0,
  "metadata": {
    "kernelspec": {
      "language": "python",
      "display_name": "Python 3",
      "name": "python3"
    },
    "language_info": {
      "pygments_lexer": "ipython3",
      "nbconvert_exporter": "python",
      "version": "3.6.4",
      "file_extension": ".py",
      "codemirror_mode": {
        "name": "ipython",
        "version": 3
      },
      "name": "python",
      "mimetype": "text/x-python"
    },
    "colab": {
      "name": "tugas-modelling-psd.ipynb",
      "provenance": []
    }
  },
  "cells": [
    {
      "cell_type": "markdown",
      "metadata": {
        "id": "YBOyNIY2L4Re"
      },
      "source": [
        "Nama : Amin Fadilah </br>\n",
        "NIM : 195150201111035"
      ]
    },
    {
      "cell_type": "code",
      "metadata": {
        "execution": {
          "iopub.status.busy": "2021-10-10T08:46:24.701853Z",
          "iopub.execute_input": "2021-10-10T08:46:24.704216Z",
          "iopub.status.idle": "2021-10-10T08:46:27.754674Z",
          "shell.execute_reply.started": "2021-10-10T08:46:24.704148Z",
          "shell.execute_reply": "2021-10-10T08:46:27.753966Z"
        },
        "trusted": true,
        "id": "ThRhXpOFLRCm"
      },
      "source": [
        "# import library yang diperlukan\n",
        "import numpy as np\n",
        "import pandas as pd\n",
        "import seaborn as sns\n",
        "import plotly.express as px\n",
        "import plotly.graph_objects as go\n",
        "import matplotlib.pyplot as plt\n",
        "%matplotlib inline\n",
        "import warnings\n",
        "warnings.filterwarnings('ignore')"
      ],
      "execution_count": null,
      "outputs": []
    },
    {
      "cell_type": "code",
      "metadata": {
        "execution": {
          "iopub.status.busy": "2021-10-10T08:46:27.756835Z",
          "iopub.execute_input": "2021-10-10T08:46:27.757396Z",
          "iopub.status.idle": "2021-10-10T08:46:27.940647Z",
          "shell.execute_reply.started": "2021-10-10T08:46:27.757355Z",
          "shell.execute_reply": "2021-10-10T08:46:27.939799Z"
        },
        "trusted": true,
        "colab": {
          "base_uri": "https://localhost:8080/",
          "height": 224
        },
        "id": "M3cgxTWKLRCp",
        "outputId": "d46a335f-6da2-470d-c8a6-7240e01730ac"
      },
      "source": [
        "# Membaca dan mengcopy ke dataframe\n",
        "\n",
        "main_df = pd.read_csv('marketing_campaign.csv', sep=\"\\t\")\n",
        "df = main_df.copy()\n",
        "df.head()"
      ],
      "execution_count": null,
      "outputs": [
        {
          "output_type": "execute_result",
          "data": {
            "text/html": [
              "<div>\n",
              "<style scoped>\n",
              "    .dataframe tbody tr th:only-of-type {\n",
              "        vertical-align: middle;\n",
              "    }\n",
              "\n",
              "    .dataframe tbody tr th {\n",
              "        vertical-align: top;\n",
              "    }\n",
              "\n",
              "    .dataframe thead th {\n",
              "        text-align: right;\n",
              "    }\n",
              "</style>\n",
              "<table border=\"1\" class=\"dataframe\">\n",
              "  <thead>\n",
              "    <tr style=\"text-align: right;\">\n",
              "      <th></th>\n",
              "      <th>ID</th>\n",
              "      <th>Year_Birth</th>\n",
              "      <th>Education</th>\n",
              "      <th>Marital_Status</th>\n",
              "      <th>Income</th>\n",
              "      <th>Kidhome</th>\n",
              "      <th>Teenhome</th>\n",
              "      <th>Dt_Customer</th>\n",
              "      <th>Recency</th>\n",
              "      <th>MntWines</th>\n",
              "      <th>MntFruits</th>\n",
              "      <th>MntMeatProducts</th>\n",
              "      <th>MntFishProducts</th>\n",
              "      <th>MntSweetProducts</th>\n",
              "      <th>MntGoldProds</th>\n",
              "      <th>NumDealsPurchases</th>\n",
              "      <th>NumWebPurchases</th>\n",
              "      <th>NumCatalogPurchases</th>\n",
              "      <th>NumStorePurchases</th>\n",
              "      <th>NumWebVisitsMonth</th>\n",
              "      <th>AcceptedCmp3</th>\n",
              "      <th>AcceptedCmp4</th>\n",
              "      <th>AcceptedCmp5</th>\n",
              "      <th>AcceptedCmp1</th>\n",
              "      <th>AcceptedCmp2</th>\n",
              "      <th>Complain</th>\n",
              "      <th>Z_CostContact</th>\n",
              "      <th>Z_Revenue</th>\n",
              "      <th>Response</th>\n",
              "    </tr>\n",
              "  </thead>\n",
              "  <tbody>\n",
              "    <tr>\n",
              "      <th>0</th>\n",
              "      <td>5524</td>\n",
              "      <td>1957</td>\n",
              "      <td>Graduation</td>\n",
              "      <td>Single</td>\n",
              "      <td>58138.0</td>\n",
              "      <td>0</td>\n",
              "      <td>0</td>\n",
              "      <td>04-09-2012</td>\n",
              "      <td>58</td>\n",
              "      <td>635</td>\n",
              "      <td>88</td>\n",
              "      <td>546</td>\n",
              "      <td>172</td>\n",
              "      <td>88</td>\n",
              "      <td>88</td>\n",
              "      <td>3</td>\n",
              "      <td>8</td>\n",
              "      <td>10</td>\n",
              "      <td>4</td>\n",
              "      <td>7</td>\n",
              "      <td>0</td>\n",
              "      <td>0</td>\n",
              "      <td>0</td>\n",
              "      <td>0</td>\n",
              "      <td>0</td>\n",
              "      <td>0</td>\n",
              "      <td>3</td>\n",
              "      <td>11</td>\n",
              "      <td>1</td>\n",
              "    </tr>\n",
              "    <tr>\n",
              "      <th>1</th>\n",
              "      <td>2174</td>\n",
              "      <td>1954</td>\n",
              "      <td>Graduation</td>\n",
              "      <td>Single</td>\n",
              "      <td>46344.0</td>\n",
              "      <td>1</td>\n",
              "      <td>1</td>\n",
              "      <td>08-03-2014</td>\n",
              "      <td>38</td>\n",
              "      <td>11</td>\n",
              "      <td>1</td>\n",
              "      <td>6</td>\n",
              "      <td>2</td>\n",
              "      <td>1</td>\n",
              "      <td>6</td>\n",
              "      <td>2</td>\n",
              "      <td>1</td>\n",
              "      <td>1</td>\n",
              "      <td>2</td>\n",
              "      <td>5</td>\n",
              "      <td>0</td>\n",
              "      <td>0</td>\n",
              "      <td>0</td>\n",
              "      <td>0</td>\n",
              "      <td>0</td>\n",
              "      <td>0</td>\n",
              "      <td>3</td>\n",
              "      <td>11</td>\n",
              "      <td>0</td>\n",
              "    </tr>\n",
              "    <tr>\n",
              "      <th>2</th>\n",
              "      <td>4141</td>\n",
              "      <td>1965</td>\n",
              "      <td>Graduation</td>\n",
              "      <td>Together</td>\n",
              "      <td>71613.0</td>\n",
              "      <td>0</td>\n",
              "      <td>0</td>\n",
              "      <td>21-08-2013</td>\n",
              "      <td>26</td>\n",
              "      <td>426</td>\n",
              "      <td>49</td>\n",
              "      <td>127</td>\n",
              "      <td>111</td>\n",
              "      <td>21</td>\n",
              "      <td>42</td>\n",
              "      <td>1</td>\n",
              "      <td>8</td>\n",
              "      <td>2</td>\n",
              "      <td>10</td>\n",
              "      <td>4</td>\n",
              "      <td>0</td>\n",
              "      <td>0</td>\n",
              "      <td>0</td>\n",
              "      <td>0</td>\n",
              "      <td>0</td>\n",
              "      <td>0</td>\n",
              "      <td>3</td>\n",
              "      <td>11</td>\n",
              "      <td>0</td>\n",
              "    </tr>\n",
              "    <tr>\n",
              "      <th>3</th>\n",
              "      <td>6182</td>\n",
              "      <td>1984</td>\n",
              "      <td>Graduation</td>\n",
              "      <td>Together</td>\n",
              "      <td>26646.0</td>\n",
              "      <td>1</td>\n",
              "      <td>0</td>\n",
              "      <td>10-02-2014</td>\n",
              "      <td>26</td>\n",
              "      <td>11</td>\n",
              "      <td>4</td>\n",
              "      <td>20</td>\n",
              "      <td>10</td>\n",
              "      <td>3</td>\n",
              "      <td>5</td>\n",
              "      <td>2</td>\n",
              "      <td>2</td>\n",
              "      <td>0</td>\n",
              "      <td>4</td>\n",
              "      <td>6</td>\n",
              "      <td>0</td>\n",
              "      <td>0</td>\n",
              "      <td>0</td>\n",
              "      <td>0</td>\n",
              "      <td>0</td>\n",
              "      <td>0</td>\n",
              "      <td>3</td>\n",
              "      <td>11</td>\n",
              "      <td>0</td>\n",
              "    </tr>\n",
              "    <tr>\n",
              "      <th>4</th>\n",
              "      <td>5324</td>\n",
              "      <td>1981</td>\n",
              "      <td>PhD</td>\n",
              "      <td>Married</td>\n",
              "      <td>58293.0</td>\n",
              "      <td>1</td>\n",
              "      <td>0</td>\n",
              "      <td>19-01-2014</td>\n",
              "      <td>94</td>\n",
              "      <td>173</td>\n",
              "      <td>43</td>\n",
              "      <td>118</td>\n",
              "      <td>46</td>\n",
              "      <td>27</td>\n",
              "      <td>15</td>\n",
              "      <td>5</td>\n",
              "      <td>5</td>\n",
              "      <td>3</td>\n",
              "      <td>6</td>\n",
              "      <td>5</td>\n",
              "      <td>0</td>\n",
              "      <td>0</td>\n",
              "      <td>0</td>\n",
              "      <td>0</td>\n",
              "      <td>0</td>\n",
              "      <td>0</td>\n",
              "      <td>3</td>\n",
              "      <td>11</td>\n",
              "      <td>0</td>\n",
              "    </tr>\n",
              "  </tbody>\n",
              "</table>\n",
              "</div>"
            ],
            "text/plain": [
              "     ID  Year_Birth   Education  ... Z_CostContact  Z_Revenue  Response\n",
              "0  5524        1957  Graduation  ...             3         11         1\n",
              "1  2174        1954  Graduation  ...             3         11         0\n",
              "2  4141        1965  Graduation  ...             3         11         0\n",
              "3  6182        1984  Graduation  ...             3         11         0\n",
              "4  5324        1981         PhD  ...             3         11         0\n",
              "\n",
              "[5 rows x 29 columns]"
            ]
          },
          "metadata": {},
          "execution_count": 2
        }
      ]
    },
    {
      "cell_type": "markdown",
      "metadata": {
        "id": "qB8xBgsZLRCr"
      },
      "source": [
        "### EDA"
      ]
    },
    {
      "cell_type": "code",
      "metadata": {
        "execution": {
          "iopub.status.busy": "2021-10-10T08:46:27.94202Z",
          "iopub.execute_input": "2021-10-10T08:46:27.942536Z",
          "iopub.status.idle": "2021-10-10T08:46:27.948141Z",
          "shell.execute_reply.started": "2021-10-10T08:46:27.942496Z",
          "shell.execute_reply": "2021-10-10T08:46:27.94721Z"
        },
        "trusted": true,
        "colab": {
          "base_uri": "https://localhost:8080/"
        },
        "id": "ZWtiS-L5LRCs",
        "outputId": "9674b1e4-2d8f-4aa4-e9e8-c26aee199b40"
      },
      "source": [
        "# cek ukuran data\n",
        "\n",
        "df.shape"
      ],
      "execution_count": null,
      "outputs": [
        {
          "output_type": "execute_result",
          "data": {
            "text/plain": [
              "(2240, 29)"
            ]
          },
          "metadata": {},
          "execution_count": 3
        }
      ]
    },
    {
      "cell_type": "code",
      "metadata": {
        "execution": {
          "iopub.status.busy": "2021-10-10T08:46:27.951193Z",
          "iopub.execute_input": "2021-10-10T08:46:27.951506Z",
          "iopub.status.idle": "2021-10-10T08:46:27.988824Z",
          "shell.execute_reply.started": "2021-10-10T08:46:27.95147Z",
          "shell.execute_reply": "2021-10-10T08:46:27.987884Z"
        },
        "trusted": true,
        "colab": {
          "base_uri": "https://localhost:8080/"
        },
        "id": "U1NAd1kLLRCu",
        "outputId": "ce602ec7-3e58-47b4-f2c5-deeaf6b4f42a"
      },
      "source": [
        "# Menemukan informasi data dari setiap kolom\n",
        "\n",
        "df.info()"
      ],
      "execution_count": null,
      "outputs": [
        {
          "output_type": "stream",
          "name": "stdout",
          "text": [
            "<class 'pandas.core.frame.DataFrame'>\n",
            "RangeIndex: 2240 entries, 0 to 2239\n",
            "Data columns (total 29 columns):\n",
            " #   Column               Non-Null Count  Dtype  \n",
            "---  ------               --------------  -----  \n",
            " 0   ID                   2240 non-null   int64  \n",
            " 1   Year_Birth           2240 non-null   int64  \n",
            " 2   Education            2240 non-null   object \n",
            " 3   Marital_Status       2240 non-null   object \n",
            " 4   Income               2216 non-null   float64\n",
            " 5   Kidhome              2240 non-null   int64  \n",
            " 6   Teenhome             2240 non-null   int64  \n",
            " 7   Dt_Customer          2240 non-null   object \n",
            " 8   Recency              2240 non-null   int64  \n",
            " 9   MntWines             2240 non-null   int64  \n",
            " 10  MntFruits            2240 non-null   int64  \n",
            " 11  MntMeatProducts      2240 non-null   int64  \n",
            " 12  MntFishProducts      2240 non-null   int64  \n",
            " 13  MntSweetProducts     2240 non-null   int64  \n",
            " 14  MntGoldProds         2240 non-null   int64  \n",
            " 15  NumDealsPurchases    2240 non-null   int64  \n",
            " 16  NumWebPurchases      2240 non-null   int64  \n",
            " 17  NumCatalogPurchases  2240 non-null   int64  \n",
            " 18  NumStorePurchases    2240 non-null   int64  \n",
            " 19  NumWebVisitsMonth    2240 non-null   int64  \n",
            " 20  AcceptedCmp3         2240 non-null   int64  \n",
            " 21  AcceptedCmp4         2240 non-null   int64  \n",
            " 22  AcceptedCmp5         2240 non-null   int64  \n",
            " 23  AcceptedCmp1         2240 non-null   int64  \n",
            " 24  AcceptedCmp2         2240 non-null   int64  \n",
            " 25  Complain             2240 non-null   int64  \n",
            " 26  Z_CostContact        2240 non-null   int64  \n",
            " 27  Z_Revenue            2240 non-null   int64  \n",
            " 28  Response             2240 non-null   int64  \n",
            "dtypes: float64(1), int64(25), object(3)\n",
            "memory usage: 507.6+ KB\n"
          ]
        }
      ]
    },
    {
      "cell_type": "code",
      "metadata": {
        "execution": {
          "iopub.status.busy": "2021-10-10T08:46:27.990358Z",
          "iopub.execute_input": "2021-10-10T08:46:27.990695Z",
          "iopub.status.idle": "2021-10-10T08:46:28.028505Z",
          "shell.execute_reply.started": "2021-10-10T08:46:27.990654Z",
          "shell.execute_reply": "2021-10-10T08:46:28.027256Z"
        },
        "trusted": true,
        "colab": {
          "base_uri": "https://localhost:8080/"
        },
        "id": "LR8z01IFLRCz",
        "outputId": "de0575b0-14d6-4166-acde-763e3c990c23"
      },
      "source": [
        "# Melihat data unik dari setiap kolom\n",
        "\n",
        "df.nunique()"
      ],
      "execution_count": null,
      "outputs": [
        {
          "output_type": "execute_result",
          "data": {
            "text/plain": [
              "ID                     2240\n",
              "Year_Birth               59\n",
              "Education                 5\n",
              "Marital_Status            8\n",
              "Income                 1974\n",
              "Kidhome                   3\n",
              "Teenhome                  3\n",
              "Dt_Customer             663\n",
              "Recency                 100\n",
              "MntWines                776\n",
              "MntFruits               158\n",
              "MntMeatProducts         558\n",
              "MntFishProducts         182\n",
              "MntSweetProducts        177\n",
              "MntGoldProds            213\n",
              "NumDealsPurchases        15\n",
              "NumWebPurchases          15\n",
              "NumCatalogPurchases      14\n",
              "NumStorePurchases        14\n",
              "NumWebVisitsMonth        16\n",
              "AcceptedCmp3              2\n",
              "AcceptedCmp4              2\n",
              "AcceptedCmp5              2\n",
              "AcceptedCmp1              2\n",
              "AcceptedCmp2              2\n",
              "Complain                  2\n",
              "Z_CostContact             1\n",
              "Z_Revenue                 1\n",
              "Response                  2\n",
              "dtype: int64"
            ]
          },
          "metadata": {},
          "execution_count": 5
        }
      ]
    },
    {
      "cell_type": "markdown",
      "metadata": {
        "id": "soFWzEKaLRC0"
      },
      "source": [
        "* Dari data diatas didapatkan bahwa kolom \"Z_CostContact\" dan \"Z_Revenue\" hanya memiliki 1 unik data sehingga tidak berpengaruh terhadap pemrosesan data nanti, kita dapat menghapus kolom tersebut"
      ]
    },
    {
      "cell_type": "markdown",
      "metadata": {
        "id": "c-8nCRWASIHH"
      },
      "source": [
        "**Data Preparation**"
      ]
    },
    {
      "cell_type": "code",
      "metadata": {
        "execution": {
          "iopub.status.busy": "2021-10-10T08:46:28.032339Z",
          "iopub.execute_input": "2021-10-10T08:46:28.034436Z",
          "iopub.status.idle": "2021-10-10T08:46:28.048898Z",
          "shell.execute_reply.started": "2021-10-10T08:46:28.034377Z",
          "shell.execute_reply": "2021-10-10T08:46:28.048215Z"
        },
        "trusted": true,
        "colab": {
          "base_uri": "https://localhost:8080/"
        },
        "id": "xcHLmdzVLRC1",
        "outputId": "08e43549-2785-46d5-e2ca-025502da951b"
      },
      "source": [
        "# mengecek data yang kosong\n",
        "\n",
        "df.isna().any()"
      ],
      "execution_count": null,
      "outputs": [
        {
          "output_type": "execute_result",
          "data": {
            "text/plain": [
              "ID                     False\n",
              "Year_Birth             False\n",
              "Education              False\n",
              "Marital_Status         False\n",
              "Income                  True\n",
              "Kidhome                False\n",
              "Teenhome               False\n",
              "Dt_Customer            False\n",
              "Recency                False\n",
              "MntWines               False\n",
              "MntFruits              False\n",
              "MntMeatProducts        False\n",
              "MntFishProducts        False\n",
              "MntSweetProducts       False\n",
              "MntGoldProds           False\n",
              "NumDealsPurchases      False\n",
              "NumWebPurchases        False\n",
              "NumCatalogPurchases    False\n",
              "NumStorePurchases      False\n",
              "NumWebVisitsMonth      False\n",
              "AcceptedCmp3           False\n",
              "AcceptedCmp4           False\n",
              "AcceptedCmp5           False\n",
              "AcceptedCmp1           False\n",
              "AcceptedCmp2           False\n",
              "Complain               False\n",
              "Z_CostContact          False\n",
              "Z_Revenue              False\n",
              "Response               False\n",
              "dtype: bool"
            ]
          },
          "metadata": {},
          "execution_count": 6
        }
      ]
    },
    {
      "cell_type": "markdown",
      "metadata": {
        "id": "e5ym68GSLRC3"
      },
      "source": [
        "* Kolom Income memiliki missing value data, sehingga kita dapat isi dengan nilai rata-rata pada nilai data kolom tersebut "
      ]
    },
    {
      "cell_type": "code",
      "metadata": {
        "execution": {
          "iopub.status.busy": "2021-10-10T08:46:28.926233Z",
          "iopub.execute_input": "2021-10-10T08:46:28.926732Z",
          "iopub.status.idle": "2021-10-10T08:46:28.962287Z",
          "shell.execute_reply.started": "2021-10-10T08:46:28.926694Z",
          "shell.execute_reply": "2021-10-10T08:46:28.960015Z"
        },
        "trusted": true,
        "colab": {
          "base_uri": "https://localhost:8080/",
          "height": 224
        },
        "id": "5-IGi_PhLRC5",
        "outputId": "6559b247-b62a-40cf-a9b5-8708ece05b4f"
      },
      "source": [
        "# Menghapus kolom \"Z_CostContact\", \"Z_Revenue\" karena tidak berpengaruh pada clustering data nanti\n",
        "\n",
        "df=df.drop(columns=[\"Z_CostContact\", \"Z_Revenue\"],axis=1)\n",
        "df.head()"
      ],
      "execution_count": null,
      "outputs": [
        {
          "output_type": "execute_result",
          "data": {
            "text/html": [
              "<div>\n",
              "<style scoped>\n",
              "    .dataframe tbody tr th:only-of-type {\n",
              "        vertical-align: middle;\n",
              "    }\n",
              "\n",
              "    .dataframe tbody tr th {\n",
              "        vertical-align: top;\n",
              "    }\n",
              "\n",
              "    .dataframe thead th {\n",
              "        text-align: right;\n",
              "    }\n",
              "</style>\n",
              "<table border=\"1\" class=\"dataframe\">\n",
              "  <thead>\n",
              "    <tr style=\"text-align: right;\">\n",
              "      <th></th>\n",
              "      <th>ID</th>\n",
              "      <th>Year_Birth</th>\n",
              "      <th>Education</th>\n",
              "      <th>Marital_Status</th>\n",
              "      <th>Income</th>\n",
              "      <th>Kidhome</th>\n",
              "      <th>Teenhome</th>\n",
              "      <th>Dt_Customer</th>\n",
              "      <th>Recency</th>\n",
              "      <th>MntWines</th>\n",
              "      <th>MntFruits</th>\n",
              "      <th>MntMeatProducts</th>\n",
              "      <th>MntFishProducts</th>\n",
              "      <th>MntSweetProducts</th>\n",
              "      <th>MntGoldProds</th>\n",
              "      <th>NumDealsPurchases</th>\n",
              "      <th>NumWebPurchases</th>\n",
              "      <th>NumCatalogPurchases</th>\n",
              "      <th>NumStorePurchases</th>\n",
              "      <th>NumWebVisitsMonth</th>\n",
              "      <th>AcceptedCmp3</th>\n",
              "      <th>AcceptedCmp4</th>\n",
              "      <th>AcceptedCmp5</th>\n",
              "      <th>AcceptedCmp1</th>\n",
              "      <th>AcceptedCmp2</th>\n",
              "      <th>Complain</th>\n",
              "      <th>Response</th>\n",
              "    </tr>\n",
              "  </thead>\n",
              "  <tbody>\n",
              "    <tr>\n",
              "      <th>0</th>\n",
              "      <td>5524</td>\n",
              "      <td>1957</td>\n",
              "      <td>Graduation</td>\n",
              "      <td>Single</td>\n",
              "      <td>58138.0</td>\n",
              "      <td>0</td>\n",
              "      <td>0</td>\n",
              "      <td>04-09-2012</td>\n",
              "      <td>58</td>\n",
              "      <td>635</td>\n",
              "      <td>88</td>\n",
              "      <td>546</td>\n",
              "      <td>172</td>\n",
              "      <td>88</td>\n",
              "      <td>88</td>\n",
              "      <td>3</td>\n",
              "      <td>8</td>\n",
              "      <td>10</td>\n",
              "      <td>4</td>\n",
              "      <td>7</td>\n",
              "      <td>0</td>\n",
              "      <td>0</td>\n",
              "      <td>0</td>\n",
              "      <td>0</td>\n",
              "      <td>0</td>\n",
              "      <td>0</td>\n",
              "      <td>1</td>\n",
              "    </tr>\n",
              "    <tr>\n",
              "      <th>1</th>\n",
              "      <td>2174</td>\n",
              "      <td>1954</td>\n",
              "      <td>Graduation</td>\n",
              "      <td>Single</td>\n",
              "      <td>46344.0</td>\n",
              "      <td>1</td>\n",
              "      <td>1</td>\n",
              "      <td>08-03-2014</td>\n",
              "      <td>38</td>\n",
              "      <td>11</td>\n",
              "      <td>1</td>\n",
              "      <td>6</td>\n",
              "      <td>2</td>\n",
              "      <td>1</td>\n",
              "      <td>6</td>\n",
              "      <td>2</td>\n",
              "      <td>1</td>\n",
              "      <td>1</td>\n",
              "      <td>2</td>\n",
              "      <td>5</td>\n",
              "      <td>0</td>\n",
              "      <td>0</td>\n",
              "      <td>0</td>\n",
              "      <td>0</td>\n",
              "      <td>0</td>\n",
              "      <td>0</td>\n",
              "      <td>0</td>\n",
              "    </tr>\n",
              "    <tr>\n",
              "      <th>2</th>\n",
              "      <td>4141</td>\n",
              "      <td>1965</td>\n",
              "      <td>Graduation</td>\n",
              "      <td>Together</td>\n",
              "      <td>71613.0</td>\n",
              "      <td>0</td>\n",
              "      <td>0</td>\n",
              "      <td>21-08-2013</td>\n",
              "      <td>26</td>\n",
              "      <td>426</td>\n",
              "      <td>49</td>\n",
              "      <td>127</td>\n",
              "      <td>111</td>\n",
              "      <td>21</td>\n",
              "      <td>42</td>\n",
              "      <td>1</td>\n",
              "      <td>8</td>\n",
              "      <td>2</td>\n",
              "      <td>10</td>\n",
              "      <td>4</td>\n",
              "      <td>0</td>\n",
              "      <td>0</td>\n",
              "      <td>0</td>\n",
              "      <td>0</td>\n",
              "      <td>0</td>\n",
              "      <td>0</td>\n",
              "      <td>0</td>\n",
              "    </tr>\n",
              "    <tr>\n",
              "      <th>3</th>\n",
              "      <td>6182</td>\n",
              "      <td>1984</td>\n",
              "      <td>Graduation</td>\n",
              "      <td>Together</td>\n",
              "      <td>26646.0</td>\n",
              "      <td>1</td>\n",
              "      <td>0</td>\n",
              "      <td>10-02-2014</td>\n",
              "      <td>26</td>\n",
              "      <td>11</td>\n",
              "      <td>4</td>\n",
              "      <td>20</td>\n",
              "      <td>10</td>\n",
              "      <td>3</td>\n",
              "      <td>5</td>\n",
              "      <td>2</td>\n",
              "      <td>2</td>\n",
              "      <td>0</td>\n",
              "      <td>4</td>\n",
              "      <td>6</td>\n",
              "      <td>0</td>\n",
              "      <td>0</td>\n",
              "      <td>0</td>\n",
              "      <td>0</td>\n",
              "      <td>0</td>\n",
              "      <td>0</td>\n",
              "      <td>0</td>\n",
              "    </tr>\n",
              "    <tr>\n",
              "      <th>4</th>\n",
              "      <td>5324</td>\n",
              "      <td>1981</td>\n",
              "      <td>PhD</td>\n",
              "      <td>Married</td>\n",
              "      <td>58293.0</td>\n",
              "      <td>1</td>\n",
              "      <td>0</td>\n",
              "      <td>19-01-2014</td>\n",
              "      <td>94</td>\n",
              "      <td>173</td>\n",
              "      <td>43</td>\n",
              "      <td>118</td>\n",
              "      <td>46</td>\n",
              "      <td>27</td>\n",
              "      <td>15</td>\n",
              "      <td>5</td>\n",
              "      <td>5</td>\n",
              "      <td>3</td>\n",
              "      <td>6</td>\n",
              "      <td>5</td>\n",
              "      <td>0</td>\n",
              "      <td>0</td>\n",
              "      <td>0</td>\n",
              "      <td>0</td>\n",
              "      <td>0</td>\n",
              "      <td>0</td>\n",
              "      <td>0</td>\n",
              "    </tr>\n",
              "  </tbody>\n",
              "</table>\n",
              "</div>"
            ],
            "text/plain": [
              "     ID  Year_Birth   Education  ... AcceptedCmp2  Complain  Response\n",
              "0  5524        1957  Graduation  ...            0         0         1\n",
              "1  2174        1954  Graduation  ...            0         0         0\n",
              "2  4141        1965  Graduation  ...            0         0         0\n",
              "3  6182        1984  Graduation  ...            0         0         0\n",
              "4  5324        1981         PhD  ...            0         0         0\n",
              "\n",
              "[5 rows x 27 columns]"
            ]
          },
          "metadata": {},
          "execution_count": 7
        }
      ]
    },
    {
      "cell_type": "code",
      "metadata": {
        "execution": {
          "iopub.status.busy": "2021-10-10T08:46:31.673254Z",
          "iopub.execute_input": "2021-10-10T08:46:31.673548Z",
          "iopub.status.idle": "2021-10-10T08:46:31.685297Z",
          "shell.execute_reply.started": "2021-10-10T08:46:31.673511Z",
          "shell.execute_reply": "2021-10-10T08:46:31.68462Z"
        },
        "trusted": true,
        "colab": {
          "base_uri": "https://localhost:8080/"
        },
        "id": "T_LJ5nZYLRDA",
        "outputId": "dcf6c430-7fcc-4392-c82a-247aceede87a"
      },
      "source": [
        "# Isi missing value pada kolom Income\n",
        "\n",
        "df['Income'] = df['Income'].fillna(df['Income'].mean())\n",
        "df.isna().any() "
      ],
      "execution_count": null,
      "outputs": [
        {
          "output_type": "execute_result",
          "data": {
            "text/plain": [
              "ID                     False\n",
              "Year_Birth             False\n",
              "Education              False\n",
              "Marital_Status         False\n",
              "Income                 False\n",
              "Kidhome                False\n",
              "Teenhome               False\n",
              "Dt_Customer            False\n",
              "Recency                False\n",
              "MntWines               False\n",
              "MntFruits              False\n",
              "MntMeatProducts        False\n",
              "MntFishProducts        False\n",
              "MntSweetProducts       False\n",
              "MntGoldProds           False\n",
              "NumDealsPurchases      False\n",
              "NumWebPurchases        False\n",
              "NumCatalogPurchases    False\n",
              "NumStorePurchases      False\n",
              "NumWebVisitsMonth      False\n",
              "AcceptedCmp3           False\n",
              "AcceptedCmp4           False\n",
              "AcceptedCmp5           False\n",
              "AcceptedCmp1           False\n",
              "AcceptedCmp2           False\n",
              "Complain               False\n",
              "Response               False\n",
              "dtype: bool"
            ]
          },
          "metadata": {},
          "execution_count": 8
        }
      ]
    },
    {
      "cell_type": "code",
      "metadata": {
        "execution": {
          "iopub.status.busy": "2021-10-10T08:46:31.687054Z",
          "iopub.execute_input": "2021-10-10T08:46:31.687554Z",
          "iopub.status.idle": "2021-10-10T08:46:31.712371Z",
          "shell.execute_reply.started": "2021-10-10T08:46:31.687518Z",
          "shell.execute_reply": "2021-10-10T08:46:31.711643Z"
        },
        "trusted": true,
        "colab": {
          "base_uri": "https://localhost:8080/",
          "height": 224
        },
        "id": "WAMrMutvLRDB",
        "outputId": "3ae2e8fb-8231-42d9-b1ee-20667066dbcb"
      },
      "source": [
        "df.head()"
      ],
      "execution_count": null,
      "outputs": [
        {
          "output_type": "execute_result",
          "data": {
            "text/html": [
              "<div>\n",
              "<style scoped>\n",
              "    .dataframe tbody tr th:only-of-type {\n",
              "        vertical-align: middle;\n",
              "    }\n",
              "\n",
              "    .dataframe tbody tr th {\n",
              "        vertical-align: top;\n",
              "    }\n",
              "\n",
              "    .dataframe thead th {\n",
              "        text-align: right;\n",
              "    }\n",
              "</style>\n",
              "<table border=\"1\" class=\"dataframe\">\n",
              "  <thead>\n",
              "    <tr style=\"text-align: right;\">\n",
              "      <th></th>\n",
              "      <th>ID</th>\n",
              "      <th>Year_Birth</th>\n",
              "      <th>Education</th>\n",
              "      <th>Marital_Status</th>\n",
              "      <th>Income</th>\n",
              "      <th>Kidhome</th>\n",
              "      <th>Teenhome</th>\n",
              "      <th>Dt_Customer</th>\n",
              "      <th>Recency</th>\n",
              "      <th>MntWines</th>\n",
              "      <th>MntFruits</th>\n",
              "      <th>MntMeatProducts</th>\n",
              "      <th>MntFishProducts</th>\n",
              "      <th>MntSweetProducts</th>\n",
              "      <th>MntGoldProds</th>\n",
              "      <th>NumDealsPurchases</th>\n",
              "      <th>NumWebPurchases</th>\n",
              "      <th>NumCatalogPurchases</th>\n",
              "      <th>NumStorePurchases</th>\n",
              "      <th>NumWebVisitsMonth</th>\n",
              "      <th>AcceptedCmp3</th>\n",
              "      <th>AcceptedCmp4</th>\n",
              "      <th>AcceptedCmp5</th>\n",
              "      <th>AcceptedCmp1</th>\n",
              "      <th>AcceptedCmp2</th>\n",
              "      <th>Complain</th>\n",
              "      <th>Response</th>\n",
              "    </tr>\n",
              "  </thead>\n",
              "  <tbody>\n",
              "    <tr>\n",
              "      <th>0</th>\n",
              "      <td>5524</td>\n",
              "      <td>1957</td>\n",
              "      <td>Graduation</td>\n",
              "      <td>Single</td>\n",
              "      <td>58138.0</td>\n",
              "      <td>0</td>\n",
              "      <td>0</td>\n",
              "      <td>04-09-2012</td>\n",
              "      <td>58</td>\n",
              "      <td>635</td>\n",
              "      <td>88</td>\n",
              "      <td>546</td>\n",
              "      <td>172</td>\n",
              "      <td>88</td>\n",
              "      <td>88</td>\n",
              "      <td>3</td>\n",
              "      <td>8</td>\n",
              "      <td>10</td>\n",
              "      <td>4</td>\n",
              "      <td>7</td>\n",
              "      <td>0</td>\n",
              "      <td>0</td>\n",
              "      <td>0</td>\n",
              "      <td>0</td>\n",
              "      <td>0</td>\n",
              "      <td>0</td>\n",
              "      <td>1</td>\n",
              "    </tr>\n",
              "    <tr>\n",
              "      <th>1</th>\n",
              "      <td>2174</td>\n",
              "      <td>1954</td>\n",
              "      <td>Graduation</td>\n",
              "      <td>Single</td>\n",
              "      <td>46344.0</td>\n",
              "      <td>1</td>\n",
              "      <td>1</td>\n",
              "      <td>08-03-2014</td>\n",
              "      <td>38</td>\n",
              "      <td>11</td>\n",
              "      <td>1</td>\n",
              "      <td>6</td>\n",
              "      <td>2</td>\n",
              "      <td>1</td>\n",
              "      <td>6</td>\n",
              "      <td>2</td>\n",
              "      <td>1</td>\n",
              "      <td>1</td>\n",
              "      <td>2</td>\n",
              "      <td>5</td>\n",
              "      <td>0</td>\n",
              "      <td>0</td>\n",
              "      <td>0</td>\n",
              "      <td>0</td>\n",
              "      <td>0</td>\n",
              "      <td>0</td>\n",
              "      <td>0</td>\n",
              "    </tr>\n",
              "    <tr>\n",
              "      <th>2</th>\n",
              "      <td>4141</td>\n",
              "      <td>1965</td>\n",
              "      <td>Graduation</td>\n",
              "      <td>Together</td>\n",
              "      <td>71613.0</td>\n",
              "      <td>0</td>\n",
              "      <td>0</td>\n",
              "      <td>21-08-2013</td>\n",
              "      <td>26</td>\n",
              "      <td>426</td>\n",
              "      <td>49</td>\n",
              "      <td>127</td>\n",
              "      <td>111</td>\n",
              "      <td>21</td>\n",
              "      <td>42</td>\n",
              "      <td>1</td>\n",
              "      <td>8</td>\n",
              "      <td>2</td>\n",
              "      <td>10</td>\n",
              "      <td>4</td>\n",
              "      <td>0</td>\n",
              "      <td>0</td>\n",
              "      <td>0</td>\n",
              "      <td>0</td>\n",
              "      <td>0</td>\n",
              "      <td>0</td>\n",
              "      <td>0</td>\n",
              "    </tr>\n",
              "    <tr>\n",
              "      <th>3</th>\n",
              "      <td>6182</td>\n",
              "      <td>1984</td>\n",
              "      <td>Graduation</td>\n",
              "      <td>Together</td>\n",
              "      <td>26646.0</td>\n",
              "      <td>1</td>\n",
              "      <td>0</td>\n",
              "      <td>10-02-2014</td>\n",
              "      <td>26</td>\n",
              "      <td>11</td>\n",
              "      <td>4</td>\n",
              "      <td>20</td>\n",
              "      <td>10</td>\n",
              "      <td>3</td>\n",
              "      <td>5</td>\n",
              "      <td>2</td>\n",
              "      <td>2</td>\n",
              "      <td>0</td>\n",
              "      <td>4</td>\n",
              "      <td>6</td>\n",
              "      <td>0</td>\n",
              "      <td>0</td>\n",
              "      <td>0</td>\n",
              "      <td>0</td>\n",
              "      <td>0</td>\n",
              "      <td>0</td>\n",
              "      <td>0</td>\n",
              "    </tr>\n",
              "    <tr>\n",
              "      <th>4</th>\n",
              "      <td>5324</td>\n",
              "      <td>1981</td>\n",
              "      <td>PhD</td>\n",
              "      <td>Married</td>\n",
              "      <td>58293.0</td>\n",
              "      <td>1</td>\n",
              "      <td>0</td>\n",
              "      <td>19-01-2014</td>\n",
              "      <td>94</td>\n",
              "      <td>173</td>\n",
              "      <td>43</td>\n",
              "      <td>118</td>\n",
              "      <td>46</td>\n",
              "      <td>27</td>\n",
              "      <td>15</td>\n",
              "      <td>5</td>\n",
              "      <td>5</td>\n",
              "      <td>3</td>\n",
              "      <td>6</td>\n",
              "      <td>5</td>\n",
              "      <td>0</td>\n",
              "      <td>0</td>\n",
              "      <td>0</td>\n",
              "      <td>0</td>\n",
              "      <td>0</td>\n",
              "      <td>0</td>\n",
              "      <td>0</td>\n",
              "    </tr>\n",
              "  </tbody>\n",
              "</table>\n",
              "</div>"
            ],
            "text/plain": [
              "     ID  Year_Birth   Education  ... AcceptedCmp2  Complain  Response\n",
              "0  5524        1957  Graduation  ...            0         0         1\n",
              "1  2174        1954  Graduation  ...            0         0         0\n",
              "2  4141        1965  Graduation  ...            0         0         0\n",
              "3  6182        1984  Graduation  ...            0         0         0\n",
              "4  5324        1981         PhD  ...            0         0         0\n",
              "\n",
              "[5 rows x 27 columns]"
            ]
          },
          "metadata": {},
          "execution_count": 9
        }
      ]
    },
    {
      "cell_type": "code",
      "metadata": {
        "execution": {
          "iopub.status.busy": "2021-10-10T08:46:31.716261Z",
          "iopub.execute_input": "2021-10-10T08:46:31.71654Z",
          "iopub.status.idle": "2021-10-10T08:46:31.724103Z",
          "shell.execute_reply.started": "2021-10-10T08:46:31.716502Z",
          "shell.execute_reply": "2021-10-10T08:46:31.723412Z"
        },
        "trusted": true,
        "colab": {
          "base_uri": "https://localhost:8080/"
        },
        "id": "SOvhzC8vLRDC",
        "outputId": "9ede7eae-0aa7-422c-956e-659eae5b2fc8"
      },
      "source": [
        "# Cek data unik pada kolom \"Marital_Status\"\n",
        "\n",
        "df['Marital_Status'].value_counts()  "
      ],
      "execution_count": null,
      "outputs": [
        {
          "output_type": "execute_result",
          "data": {
            "text/plain": [
              "Married     864\n",
              "Together    580\n",
              "Single      480\n",
              "Divorced    232\n",
              "Widow        77\n",
              "Alone         3\n",
              "Absurd        2\n",
              "YOLO          2\n",
              "Name: Marital_Status, dtype: int64"
            ]
          },
          "metadata": {},
          "execution_count": 10
        }
      ]
    },
    {
      "cell_type": "code",
      "metadata": {
        "execution": {
          "iopub.status.busy": "2021-10-10T08:46:31.725408Z",
          "iopub.execute_input": "2021-10-10T08:46:31.726292Z",
          "iopub.status.idle": "2021-10-10T08:46:31.737083Z",
          "shell.execute_reply.started": "2021-10-10T08:46:31.726253Z",
          "shell.execute_reply": "2021-10-10T08:46:31.73628Z"
        },
        "trusted": true,
        "id": "bnkg6ZnaLRDD"
      },
      "source": [
        "df['Marital_Status'] = df['Marital_Status'].replace(['Married', 'Together'],'relationship')\n",
        "df['Marital_Status'] = df['Marital_Status'].replace(['Divorced', 'Widow', 'Alone', 'YOLO', 'Absurd'],'Single')"
      ],
      "execution_count": null,
      "outputs": []
    },
    {
      "cell_type": "markdown",
      "metadata": {
        "id": "6XnEni7VLRDE"
      },
      "source": [
        "* Gabungkan nilai data 'Married', 'Together' menjadi \"relationship\" agar data tidak terlalu kompleks\n",
        "* Begitu juga 'Divorced', 'Widow', 'Alone', 'YOLO', 'Absurd' menjadi \"Single\""
      ]
    },
    {
      "cell_type": "code",
      "metadata": {
        "execution": {
          "iopub.status.busy": "2021-10-10T08:46:31.738431Z",
          "iopub.execute_input": "2021-10-10T08:46:31.739253Z",
          "iopub.status.idle": "2021-10-10T08:46:31.747391Z",
          "shell.execute_reply.started": "2021-10-10T08:46:31.739215Z",
          "shell.execute_reply": "2021-10-10T08:46:31.746552Z"
        },
        "trusted": true,
        "colab": {
          "base_uri": "https://localhost:8080/"
        },
        "id": "kaaR3iavLRDF",
        "outputId": "275b2624-d4be-41f3-dc29-ebf5bf4e8b71"
      },
      "source": [
        "# Jumlah data unik kolom 'Marital_Status' setelah diperbarui\n",
        "\n",
        "df['Marital_Status'].value_counts()  "
      ],
      "execution_count": null,
      "outputs": [
        {
          "output_type": "execute_result",
          "data": {
            "text/plain": [
              "relationship    1444\n",
              "Single           796\n",
              "Name: Marital_Status, dtype: int64"
            ]
          },
          "metadata": {},
          "execution_count": 12
        }
      ]
    },
    {
      "cell_type": "code",
      "metadata": {
        "execution": {
          "iopub.status.busy": "2021-10-10T08:46:31.748967Z",
          "iopub.execute_input": "2021-10-10T08:46:31.74942Z",
          "iopub.status.idle": "2021-10-10T08:46:31.773152Z",
          "shell.execute_reply.started": "2021-10-10T08:46:31.749372Z",
          "shell.execute_reply": "2021-10-10T08:46:31.772446Z"
        },
        "trusted": true,
        "id": "lJx-5BE-LRDF"
      },
      "source": [
        "# Menggabungkan beberapa kolom yang mirip untuk mengurangi dimensi\n",
        "\n",
        "df['Kids'] = df['Kidhome'] + df['Teenhome']\n",
        "df['Expenses'] = df['MntWines'] + df['MntFruits'] + df['MntMeatProducts'] + df['MntFishProducts'] + df['MntSweetProducts'] + df['MntGoldProds']\n",
        "df['TotalAcceptedCmp'] = df['AcceptedCmp1'] + df['AcceptedCmp2'] + df['AcceptedCmp3'] + df['AcceptedCmp4'] + df['AcceptedCmp5'] + df['Response']\n",
        "df['NumTotalPurchases'] = df['NumWebPurchases'] + df['NumCatalogPurchases'] + df['NumStorePurchases'] + df['NumDealsPurchases']"
      ],
      "execution_count": null,
      "outputs": []
    },
    {
      "cell_type": "code",
      "metadata": {
        "execution": {
          "iopub.status.busy": "2021-10-10T08:46:31.774346Z",
          "iopub.execute_input": "2021-10-10T08:46:31.774667Z",
          "iopub.status.idle": "2021-10-10T08:46:31.792626Z",
          "shell.execute_reply.started": "2021-10-10T08:46:31.774632Z",
          "shell.execute_reply": "2021-10-10T08:46:31.791932Z"
        },
        "trusted": true,
        "colab": {
          "base_uri": "https://localhost:8080/",
          "height": 224
        },
        "id": "x95KJBcpLRDG",
        "outputId": "e62ef008-a29b-49a3-b636-f874b217f795"
      },
      "source": [
        "# Hapus kolom yang sudah di merge tadi\n",
        "\n",
        "col_del = [\"AcceptedCmp1\" , \"AcceptedCmp2\", \"AcceptedCmp3\" , \"AcceptedCmp4\",\"AcceptedCmp5\", \"Response\",\"NumWebVisitsMonth\", \"NumWebPurchases\",\"NumCatalogPurchases\",\"NumStorePurchases\",\"NumDealsPurchases\" , \"Kidhome\", \"Teenhome\",\"MntWines\", \"MntFruits\", \"MntMeatProducts\", \"MntFishProducts\", \"MntSweetProducts\", \"MntGoldProds\"]\n",
        "df=df.drop(columns=col_del,axis=1)\n",
        "df.head()"
      ],
      "execution_count": null,
      "outputs": [
        {
          "output_type": "execute_result",
          "data": {
            "text/html": [
              "<div>\n",
              "<style scoped>\n",
              "    .dataframe tbody tr th:only-of-type {\n",
              "        vertical-align: middle;\n",
              "    }\n",
              "\n",
              "    .dataframe tbody tr th {\n",
              "        vertical-align: top;\n",
              "    }\n",
              "\n",
              "    .dataframe thead th {\n",
              "        text-align: right;\n",
              "    }\n",
              "</style>\n",
              "<table border=\"1\" class=\"dataframe\">\n",
              "  <thead>\n",
              "    <tr style=\"text-align: right;\">\n",
              "      <th></th>\n",
              "      <th>ID</th>\n",
              "      <th>Year_Birth</th>\n",
              "      <th>Education</th>\n",
              "      <th>Marital_Status</th>\n",
              "      <th>Income</th>\n",
              "      <th>Dt_Customer</th>\n",
              "      <th>Recency</th>\n",
              "      <th>Complain</th>\n",
              "      <th>Kids</th>\n",
              "      <th>Expenses</th>\n",
              "      <th>TotalAcceptedCmp</th>\n",
              "      <th>NumTotalPurchases</th>\n",
              "    </tr>\n",
              "  </thead>\n",
              "  <tbody>\n",
              "    <tr>\n",
              "      <th>0</th>\n",
              "      <td>5524</td>\n",
              "      <td>1957</td>\n",
              "      <td>Graduation</td>\n",
              "      <td>Single</td>\n",
              "      <td>58138.0</td>\n",
              "      <td>04-09-2012</td>\n",
              "      <td>58</td>\n",
              "      <td>0</td>\n",
              "      <td>0</td>\n",
              "      <td>1617</td>\n",
              "      <td>1</td>\n",
              "      <td>25</td>\n",
              "    </tr>\n",
              "    <tr>\n",
              "      <th>1</th>\n",
              "      <td>2174</td>\n",
              "      <td>1954</td>\n",
              "      <td>Graduation</td>\n",
              "      <td>Single</td>\n",
              "      <td>46344.0</td>\n",
              "      <td>08-03-2014</td>\n",
              "      <td>38</td>\n",
              "      <td>0</td>\n",
              "      <td>2</td>\n",
              "      <td>27</td>\n",
              "      <td>0</td>\n",
              "      <td>6</td>\n",
              "    </tr>\n",
              "    <tr>\n",
              "      <th>2</th>\n",
              "      <td>4141</td>\n",
              "      <td>1965</td>\n",
              "      <td>Graduation</td>\n",
              "      <td>relationship</td>\n",
              "      <td>71613.0</td>\n",
              "      <td>21-08-2013</td>\n",
              "      <td>26</td>\n",
              "      <td>0</td>\n",
              "      <td>0</td>\n",
              "      <td>776</td>\n",
              "      <td>0</td>\n",
              "      <td>21</td>\n",
              "    </tr>\n",
              "    <tr>\n",
              "      <th>3</th>\n",
              "      <td>6182</td>\n",
              "      <td>1984</td>\n",
              "      <td>Graduation</td>\n",
              "      <td>relationship</td>\n",
              "      <td>26646.0</td>\n",
              "      <td>10-02-2014</td>\n",
              "      <td>26</td>\n",
              "      <td>0</td>\n",
              "      <td>1</td>\n",
              "      <td>53</td>\n",
              "      <td>0</td>\n",
              "      <td>8</td>\n",
              "    </tr>\n",
              "    <tr>\n",
              "      <th>4</th>\n",
              "      <td>5324</td>\n",
              "      <td>1981</td>\n",
              "      <td>PhD</td>\n",
              "      <td>relationship</td>\n",
              "      <td>58293.0</td>\n",
              "      <td>19-01-2014</td>\n",
              "      <td>94</td>\n",
              "      <td>0</td>\n",
              "      <td>1</td>\n",
              "      <td>422</td>\n",
              "      <td>0</td>\n",
              "      <td>19</td>\n",
              "    </tr>\n",
              "  </tbody>\n",
              "</table>\n",
              "</div>"
            ],
            "text/plain": [
              "     ID  Year_Birth   Education  ... Expenses  TotalAcceptedCmp NumTotalPurchases\n",
              "0  5524        1957  Graduation  ...     1617                 1                25\n",
              "1  2174        1954  Graduation  ...       27                 0                 6\n",
              "2  4141        1965  Graduation  ...      776                 0                21\n",
              "3  6182        1984  Graduation  ...       53                 0                 8\n",
              "4  5324        1981         PhD  ...      422                 0                19\n",
              "\n",
              "[5 rows x 12 columns]"
            ]
          },
          "metadata": {},
          "execution_count": 14
        }
      ]
    },
    {
      "cell_type": "code",
      "metadata": {
        "execution": {
          "iopub.status.busy": "2021-10-10T08:46:31.794117Z",
          "iopub.execute_input": "2021-10-10T08:46:31.794594Z",
          "iopub.status.idle": "2021-10-10T08:46:31.800599Z",
          "shell.execute_reply.started": "2021-10-10T08:46:31.794557Z",
          "shell.execute_reply": "2021-10-10T08:46:31.799835Z"
        },
        "trusted": true,
        "id": "l-b1o_POLRDI"
      },
      "source": [
        "# Menambahkan kolom \"Age\" menggunakan perhitungan tahun sekarang dikurangi kolom \"Year_Birth\"\n",
        "\n",
        "df['Age'] = 2021 - df[\"Year_Birth\"]"
      ],
      "execution_count": null,
      "outputs": []
    },
    {
      "cell_type": "code",
      "metadata": {
        "execution": {
          "iopub.status.busy": "2021-10-10T08:46:31.801653Z",
          "iopub.execute_input": "2021-10-10T08:46:31.80222Z",
          "iopub.status.idle": "2021-10-10T08:46:31.811775Z",
          "shell.execute_reply.started": "2021-10-10T08:46:31.802183Z",
          "shell.execute_reply": "2021-10-10T08:46:31.811125Z"
        },
        "trusted": true,
        "colab": {
          "base_uri": "https://localhost:8080/"
        },
        "id": "j2j5R_EuLRDJ",
        "outputId": "8cfae627-7eb0-49be-af73-3a486fa1252e"
      },
      "source": [
        "df['Education'].value_counts()"
      ],
      "execution_count": null,
      "outputs": [
        {
          "output_type": "execute_result",
          "data": {
            "text/plain": [
              "Graduation    1127\n",
              "PhD            486\n",
              "Master         370\n",
              "2n Cycle       203\n",
              "Basic           54\n",
              "Name: Education, dtype: int64"
            ]
          },
          "metadata": {},
          "execution_count": 16
        }
      ]
    },
    {
      "cell_type": "code",
      "metadata": {
        "execution": {
          "iopub.status.busy": "2021-10-10T08:46:31.814281Z",
          "iopub.execute_input": "2021-10-10T08:46:31.814486Z",
          "iopub.status.idle": "2021-10-10T08:46:31.821442Z",
          "shell.execute_reply.started": "2021-10-10T08:46:31.814466Z",
          "shell.execute_reply": "2021-10-10T08:46:31.820725Z"
        },
        "trusted": true,
        "id": "Vw5HpIb-LRDJ"
      },
      "source": [
        "# pada kolom Education nilai data dapat di merge menjadi 'PG' untuk kolom 'PhD','2n Cycle','Graduation', 'Master', dan 'UG untuk 'Basic'\n",
        "\n",
        "df['Education'] = df['Education'].replace(['PhD','2n Cycle','Graduation', 'Master'],'PG')  \n",
        "df['Education'] = df['Education'].replace(['Basic'], 'UG')"
      ],
      "execution_count": null,
      "outputs": []
    },
    {
      "cell_type": "code",
      "metadata": {
        "execution": {
          "iopub.status.busy": "2021-10-10T08:46:31.82297Z",
          "iopub.execute_input": "2021-10-10T08:46:31.823482Z",
          "iopub.status.idle": "2021-10-10T08:46:31.839238Z",
          "shell.execute_reply.started": "2021-10-10T08:46:31.823417Z",
          "shell.execute_reply": "2021-10-10T08:46:31.838504Z"
        },
        "trusted": true,
        "id": "RImybTVYLRDK"
      },
      "source": [
        "# Menghitung hari bekerja di perusahaan dengan bantuan kolom 'Dt_Customer' dan 'first_day'\n",
        "df['Dt_Customer'] = pd.to_datetime(df.Dt_Customer)\n",
        "df['first_day'] = '01-01-2015'\n",
        "df['first_day'] = pd.to_datetime(df.first_day)\n",
        "df['day_engaged'] = (df['first_day'] - df['Dt_Customer']).dt.days"
      ],
      "execution_count": null,
      "outputs": []
    },
    {
      "cell_type": "code",
      "metadata": {
        "execution": {
          "iopub.status.busy": "2021-10-10T08:46:31.840673Z",
          "iopub.execute_input": "2021-10-10T08:46:31.840972Z",
          "iopub.status.idle": "2021-10-10T08:46:31.851868Z",
          "shell.execute_reply.started": "2021-10-10T08:46:31.840934Z",
          "shell.execute_reply": "2021-10-10T08:46:31.851058Z"
        },
        "trusted": true,
        "colab": {
          "base_uri": "https://localhost:8080/"
        },
        "id": "sK6Wi672LRDL",
        "outputId": "d92b62ad-8a69-4269-c816-70f2b9e149bb"
      },
      "source": [
        "df=df.drop(columns=[\"ID\", \"Dt_Customer\", \"first_day\", \"Year_Birth\", \"Dt_Customer\", \"Recency\", \"Complain\"],axis=1)\n",
        "df.shape"
      ],
      "execution_count": null,
      "outputs": [
        {
          "output_type": "execute_result",
          "data": {
            "text/plain": [
              "(2240, 9)"
            ]
          },
          "metadata": {},
          "execution_count": 19
        }
      ]
    },
    {
      "cell_type": "code",
      "metadata": {
        "colab": {
          "base_uri": "https://localhost:8080/",
          "height": 204
        },
        "id": "dToi67NMVquT",
        "outputId": "a2efb43e-db2f-4975-85c2-d4c58848e661"
      },
      "source": [
        "df.head()"
      ],
      "execution_count": null,
      "outputs": [
        {
          "output_type": "execute_result",
          "data": {
            "text/html": [
              "<div>\n",
              "<style scoped>\n",
              "    .dataframe tbody tr th:only-of-type {\n",
              "        vertical-align: middle;\n",
              "    }\n",
              "\n",
              "    .dataframe tbody tr th {\n",
              "        vertical-align: top;\n",
              "    }\n",
              "\n",
              "    .dataframe thead th {\n",
              "        text-align: right;\n",
              "    }\n",
              "</style>\n",
              "<table border=\"1\" class=\"dataframe\">\n",
              "  <thead>\n",
              "    <tr style=\"text-align: right;\">\n",
              "      <th></th>\n",
              "      <th>Education</th>\n",
              "      <th>Marital_Status</th>\n",
              "      <th>Income</th>\n",
              "      <th>Kids</th>\n",
              "      <th>Expenses</th>\n",
              "      <th>TotalAcceptedCmp</th>\n",
              "      <th>NumTotalPurchases</th>\n",
              "      <th>Age</th>\n",
              "      <th>day_engaged</th>\n",
              "    </tr>\n",
              "  </thead>\n",
              "  <tbody>\n",
              "    <tr>\n",
              "      <th>0</th>\n",
              "      <td>PG</td>\n",
              "      <td>Single</td>\n",
              "      <td>58138.0</td>\n",
              "      <td>0</td>\n",
              "      <td>1617</td>\n",
              "      <td>1</td>\n",
              "      <td>25</td>\n",
              "      <td>64</td>\n",
              "      <td>997</td>\n",
              "    </tr>\n",
              "    <tr>\n",
              "      <th>1</th>\n",
              "      <td>PG</td>\n",
              "      <td>Single</td>\n",
              "      <td>46344.0</td>\n",
              "      <td>2</td>\n",
              "      <td>27</td>\n",
              "      <td>0</td>\n",
              "      <td>6</td>\n",
              "      <td>67</td>\n",
              "      <td>151</td>\n",
              "    </tr>\n",
              "    <tr>\n",
              "      <th>2</th>\n",
              "      <td>PG</td>\n",
              "      <td>relationship</td>\n",
              "      <td>71613.0</td>\n",
              "      <td>0</td>\n",
              "      <td>776</td>\n",
              "      <td>0</td>\n",
              "      <td>21</td>\n",
              "      <td>56</td>\n",
              "      <td>498</td>\n",
              "    </tr>\n",
              "    <tr>\n",
              "      <th>3</th>\n",
              "      <td>PG</td>\n",
              "      <td>relationship</td>\n",
              "      <td>26646.0</td>\n",
              "      <td>1</td>\n",
              "      <td>53</td>\n",
              "      <td>0</td>\n",
              "      <td>8</td>\n",
              "      <td>37</td>\n",
              "      <td>91</td>\n",
              "    </tr>\n",
              "    <tr>\n",
              "      <th>4</th>\n",
              "      <td>PG</td>\n",
              "      <td>relationship</td>\n",
              "      <td>58293.0</td>\n",
              "      <td>1</td>\n",
              "      <td>422</td>\n",
              "      <td>0</td>\n",
              "      <td>19</td>\n",
              "      <td>40</td>\n",
              "      <td>347</td>\n",
              "    </tr>\n",
              "  </tbody>\n",
              "</table>\n",
              "</div>"
            ],
            "text/plain": [
              "  Education Marital_Status   Income  ...  NumTotalPurchases  Age  day_engaged\n",
              "0        PG         Single  58138.0  ...                 25   64          997\n",
              "1        PG         Single  46344.0  ...                  6   67          151\n",
              "2        PG   relationship  71613.0  ...                 21   56          498\n",
              "3        PG   relationship  26646.0  ...                  8   37           91\n",
              "4        PG   relationship  58293.0  ...                 19   40          347\n",
              "\n",
              "[5 rows x 9 columns]"
            ]
          },
          "metadata": {},
          "execution_count": 20
        }
      ]
    },
    {
      "cell_type": "code",
      "metadata": {
        "colab": {
          "base_uri": "https://localhost:8080/"
        },
        "id": "NwneCNAjFDBJ",
        "outputId": "b8166b5b-1ae2-4bca-dd33-7ac207f1bbd1"
      },
      "source": [
        "cate = []\n",
        "for i in df.columns:\n",
        "    if (df[i].dtypes == \"object\"):\n",
        "        cate.append(i)\n",
        "\n",
        "print(cate)"
      ],
      "execution_count": 24,
      "outputs": [
        {
          "output_type": "stream",
          "name": "stdout",
          "text": [
            "['Education', 'Marital_Status']\n"
          ]
        }
      ]
    },
    {
      "cell_type": "code",
      "metadata": {
        "execution": {
          "iopub.status.busy": "2021-10-10T08:46:34.640615Z",
          "iopub.execute_input": "2021-10-10T08:46:34.641265Z",
          "iopub.status.idle": "2021-10-10T08:46:34.647728Z",
          "shell.execute_reply.started": "2021-10-10T08:46:34.641224Z",
          "shell.execute_reply": "2021-10-10T08:46:34.647003Z"
        },
        "trusted": true,
        "id": "1_vg_-06LRDZ"
      },
      "source": [
        "from sklearn.preprocessing import LabelEncoder\n",
        "from sklearn.preprocessing import StandardScaler"
      ],
      "execution_count": 25,
      "outputs": []
    },
    {
      "cell_type": "code",
      "metadata": {
        "execution": {
          "iopub.status.busy": "2021-10-10T08:46:34.64902Z",
          "iopub.execute_input": "2021-10-10T08:46:34.649766Z",
          "iopub.status.idle": "2021-10-10T08:46:34.660076Z",
          "shell.execute_reply.started": "2021-10-10T08:46:34.64973Z",
          "shell.execute_reply": "2021-10-10T08:46:34.659286Z"
        },
        "trusted": true,
        "colab": {
          "base_uri": "https://localhost:8080/"
        },
        "id": "9gpuGCn1LRDa",
        "outputId": "cd4f1eec-4d47-423f-e263-9e5b2e42ef70"
      },
      "source": [
        "df['Marital_Status'].value_counts()"
      ],
      "execution_count": 26,
      "outputs": [
        {
          "output_type": "execute_result",
          "data": {
            "text/plain": [
              "relationship    1444\n",
              "Single           796\n",
              "Name: Marital_Status, dtype: int64"
            ]
          },
          "metadata": {},
          "execution_count": 26
        }
      ]
    },
    {
      "cell_type": "code",
      "metadata": {
        "execution": {
          "iopub.status.busy": "2021-10-10T08:46:34.661365Z",
          "iopub.execute_input": "2021-10-10T08:46:34.661697Z",
          "iopub.status.idle": "2021-10-10T08:46:34.674262Z",
          "shell.execute_reply.started": "2021-10-10T08:46:34.661662Z",
          "shell.execute_reply": "2021-10-10T08:46:34.673447Z"
        },
        "trusted": true,
        "id": "u90U7Bc6LRDb"
      },
      "source": [
        "#Mengubah data kategori ke numerik untuk setiap kolom\n",
        "lbl_encode = LabelEncoder()\n",
        "for i in cate:\n",
        "    df[i]=df[[i]].apply(lbl_encode.fit_transform)"
      ],
      "execution_count": 27,
      "outputs": []
    },
    {
      "cell_type": "code",
      "metadata": {
        "execution": {
          "iopub.status.busy": "2021-10-10T08:46:34.679844Z",
          "iopub.execute_input": "2021-10-10T08:46:34.680073Z",
          "iopub.status.idle": "2021-10-10T08:46:34.684388Z",
          "shell.execute_reply.started": "2021-10-10T08:46:34.680048Z",
          "shell.execute_reply": "2021-10-10T08:46:34.683518Z"
        },
        "trusted": true,
        "id": "jHrBr3O-LRDc"
      },
      "source": [
        "df1 = df.copy()"
      ],
      "execution_count": 28,
      "outputs": []
    },
    {
      "cell_type": "code",
      "metadata": {
        "execution": {
          "iopub.status.busy": "2021-10-10T08:46:34.685851Z",
          "iopub.execute_input": "2021-10-10T08:46:34.686628Z",
          "iopub.status.idle": "2021-10-10T08:46:34.695471Z",
          "shell.execute_reply.started": "2021-10-10T08:46:34.686588Z",
          "shell.execute_reply": "2021-10-10T08:46:34.694485Z"
        },
        "trusted": true,
        "id": "jwvtSscTLRDe"
      },
      "source": [
        "# Agar data mudah diproses dijadikan nilai rata-rata pada kolom 0 dan standar deviasi 1\n",
        "scaled_features = StandardScaler().fit_transform(df1.values)\n",
        "scaled_features_df = pd.DataFrame(scaled_features, index=df1.index, columns=df1.columns)"
      ],
      "execution_count": 29,
      "outputs": []
    },
    {
      "cell_type": "code",
      "metadata": {
        "execution": {
          "iopub.status.busy": "2021-10-10T08:46:34.697236Z",
          "iopub.execute_input": "2021-10-10T08:46:34.697548Z",
          "iopub.status.idle": "2021-10-10T08:46:34.715921Z",
          "shell.execute_reply.started": "2021-10-10T08:46:34.697499Z",
          "shell.execute_reply": "2021-10-10T08:46:34.714963Z"
        },
        "trusted": true,
        "colab": {
          "base_uri": "https://localhost:8080/",
          "height": 204
        },
        "id": "6LL_RgHcLRDe",
        "outputId": "3ee20057-e88f-47df-fcff-8f7dd63aae9b"
      },
      "source": [
        "scaled_features_df.head()"
      ],
      "execution_count": 30,
      "outputs": [
        {
          "output_type": "execute_result",
          "data": {
            "text/html": [
              "<div>\n",
              "<style scoped>\n",
              "    .dataframe tbody tr th:only-of-type {\n",
              "        vertical-align: middle;\n",
              "    }\n",
              "\n",
              "    .dataframe tbody tr th {\n",
              "        vertical-align: top;\n",
              "    }\n",
              "\n",
              "    .dataframe thead th {\n",
              "        text-align: right;\n",
              "    }\n",
              "</style>\n",
              "<table border=\"1\" class=\"dataframe\">\n",
              "  <thead>\n",
              "    <tr style=\"text-align: right;\">\n",
              "      <th></th>\n",
              "      <th>Education</th>\n",
              "      <th>Marital_Status</th>\n",
              "      <th>Income</th>\n",
              "      <th>Kids</th>\n",
              "      <th>Expenses</th>\n",
              "      <th>TotalAcceptedCmp</th>\n",
              "      <th>NumTotalPurchases</th>\n",
              "      <th>Age</th>\n",
              "      <th>day_engaged</th>\n",
              "    </tr>\n",
              "  </thead>\n",
              "  <tbody>\n",
              "    <tr>\n",
              "      <th>0</th>\n",
              "      <td>-0.157171</td>\n",
              "      <td>-1.346874</td>\n",
              "      <td>0.235327</td>\n",
              "      <td>-1.264505</td>\n",
              "      <td>1.679417</td>\n",
              "      <td>0.621248</td>\n",
              "      <td>1.320826</td>\n",
              "      <td>0.985345</td>\n",
              "      <td>1.976745</td>\n",
              "    </tr>\n",
              "    <tr>\n",
              "      <th>1</th>\n",
              "      <td>-0.157171</td>\n",
              "      <td>-1.346874</td>\n",
              "      <td>-0.235826</td>\n",
              "      <td>1.396361</td>\n",
              "      <td>-0.961275</td>\n",
              "      <td>-0.501912</td>\n",
              "      <td>-1.154596</td>\n",
              "      <td>1.235733</td>\n",
              "      <td>-1.667011</td>\n",
              "    </tr>\n",
              "    <tr>\n",
              "      <th>2</th>\n",
              "      <td>-0.157171</td>\n",
              "      <td>0.742460</td>\n",
              "      <td>0.773633</td>\n",
              "      <td>-1.264505</td>\n",
              "      <td>0.282673</td>\n",
              "      <td>-0.501912</td>\n",
              "      <td>0.799685</td>\n",
              "      <td>0.317643</td>\n",
              "      <td>-0.172468</td>\n",
              "    </tr>\n",
              "    <tr>\n",
              "      <th>3</th>\n",
              "      <td>-0.157171</td>\n",
              "      <td>0.742460</td>\n",
              "      <td>-1.022732</td>\n",
              "      <td>0.065928</td>\n",
              "      <td>-0.918094</td>\n",
              "      <td>-0.501912</td>\n",
              "      <td>-0.894025</td>\n",
              "      <td>-1.268149</td>\n",
              "      <td>-1.925433</td>\n",
              "    </tr>\n",
              "    <tr>\n",
              "      <th>4</th>\n",
              "      <td>-0.157171</td>\n",
              "      <td>0.742460</td>\n",
              "      <td>0.241519</td>\n",
              "      <td>0.065928</td>\n",
              "      <td>-0.305254</td>\n",
              "      <td>-0.501912</td>\n",
              "      <td>0.539114</td>\n",
              "      <td>-1.017761</td>\n",
              "      <td>-0.822831</td>\n",
              "    </tr>\n",
              "  </tbody>\n",
              "</table>\n",
              "</div>"
            ],
            "text/plain": [
              "   Education  Marital_Status  ...       Age  day_engaged\n",
              "0  -0.157171       -1.346874  ...  0.985345     1.976745\n",
              "1  -0.157171       -1.346874  ...  1.235733    -1.667011\n",
              "2  -0.157171        0.742460  ...  0.317643    -0.172468\n",
              "3  -0.157171        0.742460  ... -1.268149    -1.925433\n",
              "4  -0.157171        0.742460  ... -1.017761    -0.822831\n",
              "\n",
              "[5 rows x 9 columns]"
            ]
          },
          "metadata": {},
          "execution_count": 30
        }
      ]
    },
    {
      "cell_type": "code",
      "metadata": {
        "id": "mjuAw5H2U6vV"
      },
      "source": [
        "df.to_csv(\"data_preprocessing.csv\", index=False)"
      ],
      "execution_count": 53,
      "outputs": []
    },
    {
      "cell_type": "markdown",
      "metadata": {
        "id": "-qC7XmqEKunv"
      },
      "source": [
        "# Training Algoritma K-Means"
      ]
    },
    {
      "cell_type": "code",
      "metadata": {
        "execution": {
          "iopub.status.busy": "2021-10-10T08:46:43.516065Z",
          "iopub.execute_input": "2021-10-10T08:46:43.516554Z",
          "iopub.status.idle": "2021-10-10T08:46:43.716777Z",
          "shell.execute_reply.started": "2021-10-10T08:46:43.516522Z",
          "shell.execute_reply": "2021-10-10T08:46:43.715959Z"
        },
        "trusted": true,
        "id": "iqQQ3TINLRDn"
      },
      "source": [
        "# Training menggunakan algoritma K-Means\n",
        "from sklearn.cluster import KMeans\n",
        "kmeans=KMeans(n_clusters=3, random_state=42).fit(scaled_features_df)\n",
        "pred=kmeans.predict(scaled_features_df)\n",
        "df['cluster'] = pred + 1"
      ],
      "execution_count": 31,
      "outputs": []
    },
    {
      "cell_type": "code",
      "metadata": {
        "execution": {
          "iopub.status.busy": "2021-10-10T08:46:43.745784Z",
          "iopub.execute_input": "2021-10-10T08:46:43.746192Z",
          "iopub.status.idle": "2021-10-10T08:46:43.774201Z",
          "shell.execute_reply.started": "2021-10-10T08:46:43.746145Z",
          "shell.execute_reply": "2021-10-10T08:46:43.773501Z"
        },
        "trusted": true,
        "colab": {
          "base_uri": "https://localhost:8080/",
          "height": 204
        },
        "id": "QTFbigsdLRDp",
        "outputId": "4386dd88-9ffe-4f30-f456-9a67064ae43e"
      },
      "source": [
        "scaled_features_df.head()"
      ],
      "execution_count": 33,
      "outputs": [
        {
          "output_type": "execute_result",
          "data": {
            "text/html": [
              "<div>\n",
              "<style scoped>\n",
              "    .dataframe tbody tr th:only-of-type {\n",
              "        vertical-align: middle;\n",
              "    }\n",
              "\n",
              "    .dataframe tbody tr th {\n",
              "        vertical-align: top;\n",
              "    }\n",
              "\n",
              "    .dataframe thead th {\n",
              "        text-align: right;\n",
              "    }\n",
              "</style>\n",
              "<table border=\"1\" class=\"dataframe\">\n",
              "  <thead>\n",
              "    <tr style=\"text-align: right;\">\n",
              "      <th></th>\n",
              "      <th>Education</th>\n",
              "      <th>Marital_Status</th>\n",
              "      <th>Income</th>\n",
              "      <th>Kids</th>\n",
              "      <th>Expenses</th>\n",
              "      <th>TotalAcceptedCmp</th>\n",
              "      <th>NumTotalPurchases</th>\n",
              "      <th>Age</th>\n",
              "      <th>day_engaged</th>\n",
              "    </tr>\n",
              "  </thead>\n",
              "  <tbody>\n",
              "    <tr>\n",
              "      <th>0</th>\n",
              "      <td>-0.157171</td>\n",
              "      <td>-1.346874</td>\n",
              "      <td>0.235327</td>\n",
              "      <td>-1.264505</td>\n",
              "      <td>1.679417</td>\n",
              "      <td>0.621248</td>\n",
              "      <td>1.320826</td>\n",
              "      <td>0.985345</td>\n",
              "      <td>1.976745</td>\n",
              "    </tr>\n",
              "    <tr>\n",
              "      <th>1</th>\n",
              "      <td>-0.157171</td>\n",
              "      <td>-1.346874</td>\n",
              "      <td>-0.235826</td>\n",
              "      <td>1.396361</td>\n",
              "      <td>-0.961275</td>\n",
              "      <td>-0.501912</td>\n",
              "      <td>-1.154596</td>\n",
              "      <td>1.235733</td>\n",
              "      <td>-1.667011</td>\n",
              "    </tr>\n",
              "    <tr>\n",
              "      <th>2</th>\n",
              "      <td>-0.157171</td>\n",
              "      <td>0.742460</td>\n",
              "      <td>0.773633</td>\n",
              "      <td>-1.264505</td>\n",
              "      <td>0.282673</td>\n",
              "      <td>-0.501912</td>\n",
              "      <td>0.799685</td>\n",
              "      <td>0.317643</td>\n",
              "      <td>-0.172468</td>\n",
              "    </tr>\n",
              "    <tr>\n",
              "      <th>3</th>\n",
              "      <td>-0.157171</td>\n",
              "      <td>0.742460</td>\n",
              "      <td>-1.022732</td>\n",
              "      <td>0.065928</td>\n",
              "      <td>-0.918094</td>\n",
              "      <td>-0.501912</td>\n",
              "      <td>-0.894025</td>\n",
              "      <td>-1.268149</td>\n",
              "      <td>-1.925433</td>\n",
              "    </tr>\n",
              "    <tr>\n",
              "      <th>4</th>\n",
              "      <td>-0.157171</td>\n",
              "      <td>0.742460</td>\n",
              "      <td>0.241519</td>\n",
              "      <td>0.065928</td>\n",
              "      <td>-0.305254</td>\n",
              "      <td>-0.501912</td>\n",
              "      <td>0.539114</td>\n",
              "      <td>-1.017761</td>\n",
              "      <td>-0.822831</td>\n",
              "    </tr>\n",
              "  </tbody>\n",
              "</table>\n",
              "</div>"
            ],
            "text/plain": [
              "   Education  Marital_Status  ...       Age  day_engaged\n",
              "0  -0.157171       -1.346874  ...  0.985345     1.976745\n",
              "1  -0.157171       -1.346874  ...  1.235733    -1.667011\n",
              "2  -0.157171        0.742460  ...  0.317643    -0.172468\n",
              "3  -0.157171        0.742460  ... -1.268149    -1.925433\n",
              "4  -0.157171        0.742460  ... -1.017761    -0.822831\n",
              "\n",
              "[5 rows x 9 columns]"
            ]
          },
          "metadata": {},
          "execution_count": 33
        }
      ]
    },
    {
      "cell_type": "markdown",
      "metadata": {
        "id": "QCiB_J_tLRDq"
      },
      "source": [
        "### Clustering "
      ]
    },
    {
      "cell_type": "code",
      "metadata": {
        "colab": {
          "base_uri": "https://localhost:8080/",
          "height": 282
        },
        "id": "u1_8i6c0HCTc",
        "outputId": "f542d7cf-12c7-4eb8-ae8e-61d4b9e96091"
      },
      "source": [
        "plt.scatter(df['Income'],df['day_engaged'],c=pred, alpha=1, s=10)\n",
        "plt.plot()"
      ],
      "execution_count": 52,
      "outputs": [
        {
          "output_type": "execute_result",
          "data": {
            "text/plain": [
              "[]"
            ]
          },
          "metadata": {},
          "execution_count": 52
        },
        {
          "output_type": "display_data",
          "data": {
            "image/png": "[encoded data removed]",
            "text/plain": [
              "<Figure size 432x288 with 1 Axes>"
            ]
          },
          "metadata": {
            "needs_background": "light"
          }
        }
      ]
    },
    {
      "cell_type": "code",
      "metadata": {
        "colab": {
          "base_uri": "https://localhost:8080/",
          "height": 295
        },
        "id": "pOVO33mOKkLg",
        "outputId": "7acda29a-7d34-4cad-c6e6-fe4465b76102"
      },
      "source": [
        "pl = sns.countplot(x=df[\"cluster\"])\n",
        "pl.set_title(\"Distribution Of The Clusters\")\n",
        "plt.show()"
      ],
      "execution_count": 48,
      "outputs": [
        {
          "output_type": "display_data",
          "data": {
            "image/png": "[encoded data removed]",
            "text/plain": [
              "<Figure size 432x288 with 1 Axes>"
            ]
          },
          "metadata": {
            "needs_background": "light"
          }
        }
      ]
    },
    {
      "cell_type": "code",
      "metadata": {
        "id": "I1JESc__J4bn"
      },
      "source": [
        "from sklearn.metrics import silhouette_score \n",
        "silhouette_scores = []\n",
        "m1=KMeans(n_clusters=3, random_state=42)\n",
        "c = m1.fit_predict(scaled_features_df)\n",
        "silhouette_scores.append(silhouette_score(scaled_features_df, m1.fit_predict(scaled_features_df))) \n"
      ],
      "execution_count": 46,
      "outputs": []
    },
    {
      "cell_type": "markdown",
      "metadata": {
        "id": "Q_KHDZSELegU"
      },
      "source": [
        "# Hasil Silhouette Score"
      ]
    },
    {
      "cell_type": "code",
      "metadata": {
        "colab": {
          "base_uri": "https://localhost:8080/"
        },
        "id": "iwylCNaOKULv",
        "outputId": "7f5ee754-4cdf-43b3-ed7e-bb10656000dc"
      },
      "source": [
        "print(silhouette_scores)"
      ],
      "execution_count": 47,
      "outputs": [
        {
          "output_type": "stream",
          "name": "stdout",
          "text": [
            "[0.2633691981378332]\n"
          ]
        }
      ]
    },
    {
      "cell_type": "markdown",
      "metadata": {
        "id": "A27_SNVELqiD"
      },
      "source": [
        "# Hasil Evaluasi\n",
        "1. Hasil tidak bagus, karena algoritma K-means belum terlalu dapat mengenali data yang diolah atau data yang diproses tidak cocok dengan modelling klasterisasi.\n",
        "2. Diperlukan data preprocessing yang matang dan pemilihan algoritma yang tepat untuk dapat mengklasterisasi data dengan maksimal"
      ]
    }
  ]
}